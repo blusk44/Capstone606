{
  "nbformat": 4,
  "nbformat_minor": 0,
  "metadata": {
    "colab": {
      "name": "UNSW_EDA.ipynb",
      "provenance": []
    },
    "kernelspec": {
      "name": "python3",
      "display_name": "Python 3"
    }
  },
  "cells": [
    {
      "cell_type": "code",
      "metadata": {
        "id": "iS-8YrfHTba0",
        "colab_type": "code",
        "colab": {}
      },
      "source": [
        "import numpy as np\n",
        "import pandas as pd\n",
        "import matplotlib.pyplot as plt\n",
        "import seaborn as sns\n",
        "\n",
        "import os\n",
        "import glob\n",
        "import requests\n",
        "\n",
        "from google.colab import files\n",
        "from pydrive.auth import GoogleAuth\n",
        "from pydrive.drive import GoogleDrive\n",
        "from google.colab import auth\n",
        "from oauth2client.client import GoogleCredentials\n",
        "import io"
      ],
      "execution_count": 0,
      "outputs": []
    },
    {
      "cell_type": "markdown",
      "metadata": {
        "id": "t6DjPDIqRSr6",
        "colab_type": "text"
      },
      "source": [
        "Data is available from:  \n",
        "https://www.unsw.adfa.edu.au/unsw-canberra-cyber/cybersecurity/ADFA-NB15-Datasets/"
      ]
    },
    {
      "cell_type": "code",
      "metadata": {
        "id": "dKVskWgLoGo2",
        "colab_type": "code",
        "colab": {
          "resources": {
            "http://localhost:8080/nbextensions/google.colab/files.js": {
              "data": "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",
              "ok": true,
              "headers": [
                [
                  "content-type",
                  "application/javascript"
                ]
              ],
              "status": 200,
              "status_text": ""
            }
          },
          "base_uri": "https://localhost:8080/",
          "height": 75
        },
        "outputId": "908062f5-9d6d-4f8b-8429-2f8960f1cce8"
      },
      "source": [
        "uploaded = files.upload()"
      ],
      "execution_count": 52,
      "outputs": [
        {
          "output_type": "display_data",
          "data": {
            "text/html": [
              "\n",
              "     <input type=\"file\" id=\"files-2ef9cf9d-5f5e-459d-bba8-ad845833c240\" name=\"files[]\" multiple disabled />\n",
              "     <output id=\"result-2ef9cf9d-5f5e-459d-bba8-ad845833c240\">\n",
              "      Upload widget is only available when the cell has been executed in the\n",
              "      current browser session. Please rerun this cell to enable.\n",
              "      </output>\n",
              "      <script src=\"/nbextensions/google.colab/files.js\"></script> "
            ],
            "text/plain": [
              "<IPython.core.display.HTML object>"
            ]
          },
          "metadata": {
            "tags": []
          }
        },
        {
          "output_type": "stream",
          "text": [
            "Saving UNSW_NB15_training-set.csv to UNSW_NB15_training-set (1).csv\n"
          ],
          "name": "stdout"
        }
      ]
    },
    {
      "cell_type": "code",
      "metadata": {
        "id": "CW6XQ0eea0RL",
        "colab_type": "code",
        "colab": {}
      },
      "source": [
        "df = pd.read_csv(io.StringIO(uploaded['UNSW_NB15_training-set.csv'].decode('utf-8')))"
      ],
      "execution_count": 0,
      "outputs": []
    },
    {
      "cell_type": "markdown",
      "metadata": {
        "id": "iCcxnuwFxM13",
        "colab_type": "text"
      },
      "source": [
        "The UNSW-NB15 dataset is a mix of real network traffic and synthetic malware attacks. The purpose of the dataset is for research into network intrusion. Below is a quick summary EDA of the dataset. This is undirected and is used just to get an introduction to what the dataset contains."
      ]
    },
    {
      "cell_type": "code",
      "metadata": {
        "id": "29d0vsnudtNt",
        "colab_type": "code",
        "outputId": "b0ab4248-e8ec-4714-ec80-a2e198d1e1ae",
        "colab": {
          "base_uri": "https://localhost:8080/",
          "height": 1000
        }
      },
      "source": [
        "#Get a sample of a few datapoints\n",
        "\n",
        "sample_df = df.sample(5).T\n",
        "sample_df.sort_values(by='label',axis=1)"
      ],
      "execution_count": 54,
      "outputs": [
        {
          "output_type": "execute_result",
          "data": {
            "text/html": [
              "<div>\n",
              "<style scoped>\n",
              "    .dataframe tbody tr th:only-of-type {\n",
              "        vertical-align: middle;\n",
              "    }\n",
              "\n",
              "    .dataframe tbody tr th {\n",
              "        vertical-align: top;\n",
              "    }\n",
              "\n",
              "    .dataframe thead th {\n",
              "        text-align: right;\n",
              "    }\n",
              "</style>\n",
              "<table border=\"1\" class=\"dataframe\">\n",
              "  <thead>\n",
              "    <tr style=\"text-align: right;\">\n",
              "      <th></th>\n",
              "      <th>7832</th>\n",
              "      <th>15087</th>\n",
              "      <th>88255</th>\n",
              "      <th>117329</th>\n",
              "      <th>149645</th>\n",
              "    </tr>\n",
              "  </thead>\n",
              "  <tbody>\n",
              "    <tr>\n",
              "      <th>id</th>\n",
              "      <td>7833</td>\n",
              "      <td>15088</td>\n",
              "      <td>88256</td>\n",
              "      <td>117330</td>\n",
              "      <td>149646</td>\n",
              "    </tr>\n",
              "    <tr>\n",
              "      <th>dur</th>\n",
              "      <td>0.040661</td>\n",
              "      <td>0.001014</td>\n",
              "      <td>0.412941</td>\n",
              "      <td>9e-06</td>\n",
              "      <td>0.998291</td>\n",
              "    </tr>\n",
              "    <tr>\n",
              "      <th>proto</th>\n",
              "      <td>tcp</td>\n",
              "      <td>udp</td>\n",
              "      <td>tcp</td>\n",
              "      <td>udp</td>\n",
              "      <td>tcp</td>\n",
              "    </tr>\n",
              "    <tr>\n",
              "      <th>service</th>\n",
              "      <td>-</td>\n",
              "      <td>dns</td>\n",
              "      <td>-</td>\n",
              "      <td>dns</td>\n",
              "      <td>-</td>\n",
              "    </tr>\n",
              "    <tr>\n",
              "      <th>state</th>\n",
              "      <td>FIN</td>\n",
              "      <td>CON</td>\n",
              "      <td>FIN</td>\n",
              "      <td>INT</td>\n",
              "      <td>FIN</td>\n",
              "    </tr>\n",
              "    <tr>\n",
              "      <th>spkts</th>\n",
              "      <td>48</td>\n",
              "      <td>2</td>\n",
              "      <td>10</td>\n",
              "      <td>2</td>\n",
              "      <td>10</td>\n",
              "    </tr>\n",
              "    <tr>\n",
              "      <th>dpkts</th>\n",
              "      <td>50</td>\n",
              "      <td>2</td>\n",
              "      <td>6</td>\n",
              "      <td>0</td>\n",
              "      <td>8</td>\n",
              "    </tr>\n",
              "    <tr>\n",
              "      <th>sbytes</th>\n",
              "      <td>2974</td>\n",
              "      <td>146</td>\n",
              "      <td>588</td>\n",
              "      <td>114</td>\n",
              "      <td>1030</td>\n",
              "    </tr>\n",
              "    <tr>\n",
              "      <th>dbytes</th>\n",
              "      <td>30506</td>\n",
              "      <td>178</td>\n",
              "      <td>268</td>\n",
              "      <td>0</td>\n",
              "      <td>354</td>\n",
              "    </tr>\n",
              "    <tr>\n",
              "      <th>rate</th>\n",
              "      <td>2385.58</td>\n",
              "      <td>2958.58</td>\n",
              "      <td>36.3248</td>\n",
              "      <td>111111</td>\n",
              "      <td>17.0291</td>\n",
              "    </tr>\n",
              "    <tr>\n",
              "      <th>sttl</th>\n",
              "      <td>31</td>\n",
              "      <td>31</td>\n",
              "      <td>254</td>\n",
              "      <td>254</td>\n",
              "      <td>254</td>\n",
              "    </tr>\n",
              "    <tr>\n",
              "      <th>dttl</th>\n",
              "      <td>29</td>\n",
              "      <td>29</td>\n",
              "      <td>252</td>\n",
              "      <td>0</td>\n",
              "      <td>252</td>\n",
              "    </tr>\n",
              "    <tr>\n",
              "      <th>sload</th>\n",
              "      <td>573129</td>\n",
              "      <td>575937</td>\n",
              "      <td>10267.8</td>\n",
              "      <td>5.06667e+07</td>\n",
              "      <td>7428.7</td>\n",
              "    </tr>\n",
              "    <tr>\n",
              "      <th>dload</th>\n",
              "      <td>5.882e+06</td>\n",
              "      <td>702170</td>\n",
              "      <td>4339.6</td>\n",
              "      <td>0</td>\n",
              "      <td>2484.25</td>\n",
              "    </tr>\n",
              "    <tr>\n",
              "      <th>sloss</th>\n",
              "      <td>7</td>\n",
              "      <td>0</td>\n",
              "      <td>2</td>\n",
              "      <td>0</td>\n",
              "      <td>2</td>\n",
              "    </tr>\n",
              "    <tr>\n",
              "      <th>dloss</th>\n",
              "      <td>18</td>\n",
              "      <td>0</td>\n",
              "      <td>1</td>\n",
              "      <td>0</td>\n",
              "      <td>1</td>\n",
              "    </tr>\n",
              "    <tr>\n",
              "      <th>sinpkt</th>\n",
              "      <td>0.858255</td>\n",
              "      <td>0.006</td>\n",
              "      <td>43.9217</td>\n",
              "      <td>0.009</td>\n",
              "      <td>108.156</td>\n",
              "    </tr>\n",
              "    <tr>\n",
              "      <th>dinpkt</th>\n",
              "      <td>0.818735</td>\n",
              "      <td>0.005</td>\n",
              "      <td>65.7786</td>\n",
              "      <td>0</td>\n",
              "      <td>132.144</td>\n",
              "    </tr>\n",
              "    <tr>\n",
              "      <th>sjit</th>\n",
              "      <td>58.9872</td>\n",
              "      <td>0</td>\n",
              "      <td>2277.9</td>\n",
              "      <td>0</td>\n",
              "      <td>7131.78</td>\n",
              "    </tr>\n",
              "    <tr>\n",
              "      <th>djit</th>\n",
              "      <td>59.375</td>\n",
              "      <td>0</td>\n",
              "      <td>95.0147</td>\n",
              "      <td>0</td>\n",
              "      <td>191.977</td>\n",
              "    </tr>\n",
              "    <tr>\n",
              "      <th>swin</th>\n",
              "      <td>255</td>\n",
              "      <td>0</td>\n",
              "      <td>255</td>\n",
              "      <td>0</td>\n",
              "      <td>255</td>\n",
              "    </tr>\n",
              "    <tr>\n",
              "      <th>stcpb</th>\n",
              "      <td>653175510</td>\n",
              "      <td>0</td>\n",
              "      <td>447953008</td>\n",
              "      <td>0</td>\n",
              "      <td>661913026</td>\n",
              "    </tr>\n",
              "    <tr>\n",
              "      <th>dtcpb</th>\n",
              "      <td>2798826362</td>\n",
              "      <td>0</td>\n",
              "      <td>2621251722</td>\n",
              "      <td>0</td>\n",
              "      <td>2067301336</td>\n",
              "    </tr>\n",
              "    <tr>\n",
              "      <th>dwin</th>\n",
              "      <td>255</td>\n",
              "      <td>0</td>\n",
              "      <td>255</td>\n",
              "      <td>0</td>\n",
              "      <td>255</td>\n",
              "    </tr>\n",
              "    <tr>\n",
              "      <th>tcprtt</th>\n",
              "      <td>0.000658</td>\n",
              "      <td>0</td>\n",
              "      <td>0.139866</td>\n",
              "      <td>0</td>\n",
              "      <td>0.131511</td>\n",
              "    </tr>\n",
              "    <tr>\n",
              "      <th>synack</th>\n",
              "      <td>0.000539</td>\n",
              "      <td>0</td>\n",
              "      <td>0.084043</td>\n",
              "      <td>0</td>\n",
              "      <td>0.073275</td>\n",
              "    </tr>\n",
              "    <tr>\n",
              "      <th>ackdat</th>\n",
              "      <td>0.000119</td>\n",
              "      <td>0</td>\n",
              "      <td>0.055823</td>\n",
              "      <td>0</td>\n",
              "      <td>0.058236</td>\n",
              "    </tr>\n",
              "    <tr>\n",
              "      <th>smean</th>\n",
              "      <td>62</td>\n",
              "      <td>73</td>\n",
              "      <td>59</td>\n",
              "      <td>57</td>\n",
              "      <td>103</td>\n",
              "    </tr>\n",
              "    <tr>\n",
              "      <th>dmean</th>\n",
              "      <td>610</td>\n",
              "      <td>89</td>\n",
              "      <td>45</td>\n",
              "      <td>0</td>\n",
              "      <td>44</td>\n",
              "    </tr>\n",
              "    <tr>\n",
              "      <th>trans_depth</th>\n",
              "      <td>0</td>\n",
              "      <td>0</td>\n",
              "      <td>0</td>\n",
              "      <td>0</td>\n",
              "      <td>0</td>\n",
              "    </tr>\n",
              "    <tr>\n",
              "      <th>response_body_len</th>\n",
              "      <td>0</td>\n",
              "      <td>0</td>\n",
              "      <td>0</td>\n",
              "      <td>0</td>\n",
              "      <td>0</td>\n",
              "    </tr>\n",
              "    <tr>\n",
              "      <th>ct_srv_src</th>\n",
              "      <td>7</td>\n",
              "      <td>3</td>\n",
              "      <td>2</td>\n",
              "      <td>37</td>\n",
              "      <td>2</td>\n",
              "    </tr>\n",
              "    <tr>\n",
              "      <th>ct_state_ttl</th>\n",
              "      <td>0</td>\n",
              "      <td>0</td>\n",
              "      <td>1</td>\n",
              "      <td>2</td>\n",
              "      <td>1</td>\n",
              "    </tr>\n",
              "    <tr>\n",
              "      <th>ct_dst_ltm</th>\n",
              "      <td>1</td>\n",
              "      <td>2</td>\n",
              "      <td>1</td>\n",
              "      <td>26</td>\n",
              "      <td>4</td>\n",
              "    </tr>\n",
              "    <tr>\n",
              "      <th>ct_src_dport_ltm</th>\n",
              "      <td>1</td>\n",
              "      <td>3</td>\n",
              "      <td>1</td>\n",
              "      <td>26</td>\n",
              "      <td>1</td>\n",
              "    </tr>\n",
              "    <tr>\n",
              "      <th>ct_dst_sport_ltm</th>\n",
              "      <td>1</td>\n",
              "      <td>1</td>\n",
              "      <td>1</td>\n",
              "      <td>13</td>\n",
              "      <td>1</td>\n",
              "    </tr>\n",
              "    <tr>\n",
              "      <th>ct_dst_src_ltm</th>\n",
              "      <td>2</td>\n",
              "      <td>2</td>\n",
              "      <td>2</td>\n",
              "      <td>37</td>\n",
              "      <td>2</td>\n",
              "    </tr>\n",
              "    <tr>\n",
              "      <th>is_ftp_login</th>\n",
              "      <td>0</td>\n",
              "      <td>0</td>\n",
              "      <td>0</td>\n",
              "      <td>0</td>\n",
              "      <td>0</td>\n",
              "    </tr>\n",
              "    <tr>\n",
              "      <th>ct_ftp_cmd</th>\n",
              "      <td>0</td>\n",
              "      <td>0</td>\n",
              "      <td>0</td>\n",
              "      <td>0</td>\n",
              "      <td>0</td>\n",
              "    </tr>\n",
              "    <tr>\n",
              "      <th>ct_flw_http_mthd</th>\n",
              "      <td>0</td>\n",
              "      <td>0</td>\n",
              "      <td>0</td>\n",
              "      <td>0</td>\n",
              "      <td>0</td>\n",
              "    </tr>\n",
              "    <tr>\n",
              "      <th>ct_src_ltm</th>\n",
              "      <td>3</td>\n",
              "      <td>3</td>\n",
              "      <td>1</td>\n",
              "      <td>26</td>\n",
              "      <td>1</td>\n",
              "    </tr>\n",
              "    <tr>\n",
              "      <th>ct_srv_dst</th>\n",
              "      <td>5</td>\n",
              "      <td>2</td>\n",
              "      <td>2</td>\n",
              "      <td>37</td>\n",
              "      <td>1</td>\n",
              "    </tr>\n",
              "    <tr>\n",
              "      <th>is_sm_ips_ports</th>\n",
              "      <td>0</td>\n",
              "      <td>0</td>\n",
              "      <td>0</td>\n",
              "      <td>0</td>\n",
              "      <td>0</td>\n",
              "    </tr>\n",
              "    <tr>\n",
              "      <th>attack_cat</th>\n",
              "      <td>Normal</td>\n",
              "      <td>Normal</td>\n",
              "      <td>Fuzzers</td>\n",
              "      <td>Generic</td>\n",
              "      <td>Fuzzers</td>\n",
              "    </tr>\n",
              "    <tr>\n",
              "      <th>label</th>\n",
              "      <td>0</td>\n",
              "      <td>0</td>\n",
              "      <td>1</td>\n",
              "      <td>1</td>\n",
              "      <td>1</td>\n",
              "    </tr>\n",
              "  </tbody>\n",
              "</table>\n",
              "</div>"
            ],
            "text/plain": [
              "                       7832      15087       88255        117329      149645\n",
              "id                       7833     15088       88256       117330      149646\n",
              "dur                  0.040661  0.001014    0.412941        9e-06    0.998291\n",
              "proto                     tcp       udp         tcp          udp         tcp\n",
              "service                     -       dns           -          dns           -\n",
              "state                     FIN       CON         FIN          INT         FIN\n",
              "spkts                      48         2          10            2          10\n",
              "dpkts                      50         2           6            0           8\n",
              "sbytes                   2974       146         588          114        1030\n",
              "dbytes                  30506       178         268            0         354\n",
              "rate                  2385.58   2958.58     36.3248       111111     17.0291\n",
              "sttl                       31        31         254          254         254\n",
              "dttl                       29        29         252            0         252\n",
              "sload                  573129    575937     10267.8  5.06667e+07      7428.7\n",
              "dload               5.882e+06    702170      4339.6            0     2484.25\n",
              "sloss                       7         0           2            0           2\n",
              "dloss                      18         0           1            0           1\n",
              "sinpkt               0.858255     0.006     43.9217        0.009     108.156\n",
              "dinpkt               0.818735     0.005     65.7786            0     132.144\n",
              "sjit                  58.9872         0      2277.9            0     7131.78\n",
              "djit                   59.375         0     95.0147            0     191.977\n",
              "swin                      255         0         255            0         255\n",
              "stcpb               653175510         0   447953008            0   661913026\n",
              "dtcpb              2798826362         0  2621251722            0  2067301336\n",
              "dwin                      255         0         255            0         255\n",
              "tcprtt               0.000658         0    0.139866            0    0.131511\n",
              "synack               0.000539         0    0.084043            0    0.073275\n",
              "ackdat               0.000119         0    0.055823            0    0.058236\n",
              "smean                      62        73          59           57         103\n",
              "dmean                     610        89          45            0          44\n",
              "trans_depth                 0         0           0            0           0\n",
              "response_body_len           0         0           0            0           0\n",
              "ct_srv_src                  7         3           2           37           2\n",
              "ct_state_ttl                0         0           1            2           1\n",
              "ct_dst_ltm                  1         2           1           26           4\n",
              "ct_src_dport_ltm            1         3           1           26           1\n",
              "ct_dst_sport_ltm            1         1           1           13           1\n",
              "ct_dst_src_ltm              2         2           2           37           2\n",
              "is_ftp_login                0         0           0            0           0\n",
              "ct_ftp_cmd                  0         0           0            0           0\n",
              "ct_flw_http_mthd            0         0           0            0           0\n",
              "ct_src_ltm                  3         3           1           26           1\n",
              "ct_srv_dst                  5         2           2           37           1\n",
              "is_sm_ips_ports             0         0           0            0           0\n",
              "attack_cat             Normal    Normal     Fuzzers      Generic     Fuzzers\n",
              "label                       0         0           1            1           1"
            ]
          },
          "metadata": {
            "tags": []
          },
          "execution_count": 54
        }
      ]
    },
    {
      "cell_type": "code",
      "metadata": {
        "id": "prCmN3NDd4Vc",
        "colab_type": "code",
        "outputId": "33e5739f-3aa1-469d-83a4-a2973897f76b",
        "colab": {
          "base_uri": "https://localhost:8080/",
          "height": 35
        }
      },
      "source": [
        "df.shape"
      ],
      "execution_count": 55,
      "outputs": [
        {
          "output_type": "execute_result",
          "data": {
            "text/plain": [
              "(175341, 45)"
            ]
          },
          "metadata": {
            "tags": []
          },
          "execution_count": 55
        }
      ]
    },
    {
      "cell_type": "code",
      "metadata": {
        "id": "qM4w1ijEeNMq",
        "colab_type": "code",
        "outputId": "b0aa3745-d054-4406-d2e7-7668986a08ce",
        "colab": {
          "base_uri": "https://localhost:8080/",
          "height": 52
        }
      },
      "source": [
        "print('Number of total attacks:',df.label.sum(),'out of 175341')\n",
        "print('Percent attacks:',round(df.label.mean(),2)*100,'%')"
      ],
      "execution_count": 163,
      "outputs": [
        {
          "output_type": "stream",
          "text": [
            "Number of total attacks: 119341 out of 175341\n",
            "Percent attacks: 68.0 %\n"
          ],
          "name": "stdout"
        }
      ]
    },
    {
      "cell_type": "code",
      "metadata": {
        "id": "l91WL8Bl0sbt",
        "colab_type": "code",
        "colab": {
          "base_uri": "https://localhost:8080/",
          "height": 212
        },
        "outputId": "13b5a22b-0777-494c-8bb1-13747d89d5ff"
      },
      "source": [
        "#Types of attacks:\n",
        "df.attack_cat.value_counts()"
      ],
      "execution_count": 57,
      "outputs": [
        {
          "output_type": "execute_result",
          "data": {
            "text/plain": [
              "Normal            56000\n",
              "Generic           40000\n",
              "Exploits          33393\n",
              "Fuzzers           18184\n",
              "DoS               12264\n",
              "Reconnaissance    10491\n",
              "Analysis           2000\n",
              "Backdoor           1746\n",
              "Shellcode          1133\n",
              "Worms               130\n",
              "Name: attack_cat, dtype: int64"
            ]
          },
          "metadata": {
            "tags": []
          },
          "execution_count": 57
        }
      ]
    },
    {
      "cell_type": "code",
      "metadata": {
        "id": "quYQfsTXp2s2",
        "colab_type": "code",
        "colab": {
          "base_uri": "https://localhost:8080/",
          "height": 980
        },
        "outputId": "332f1ae5-2236-4aa5-bf7f-4ae01b653daa"
      },
      "source": [
        "# Create a reference table for features that is easy to consult\n",
        "# Code from https://www.kaggle.com/tombresee/next-gen-eda\n",
        "\n",
        "refer = pd.DataFrame(df.columns)\n",
        "refer.columns=['Mapper']\n",
        "refer.index.name='Ref:'\n",
        "refer.style.set_properties(**{'text-align': 'left'}).set_table_styles([dict(selector='th', props=[('text-align', 'center')])])"
      ],
      "execution_count": 58,
      "outputs": [
        {
          "output_type": "execute_result",
          "data": {
            "text/html": [
              "<style  type=\"text/css\" >\n",
              "    #T_0e1bf280_5b1c_11ea_bce5_0242ac1c0002 th {\n",
              "          text-align: center;\n",
              "    }    #T_0e1bf280_5b1c_11ea_bce5_0242ac1c0002row0_col0 {\n",
              "            text-align:  left;\n",
              "        }    #T_0e1bf280_5b1c_11ea_bce5_0242ac1c0002row1_col0 {\n",
              "            text-align:  left;\n",
              "        }    #T_0e1bf280_5b1c_11ea_bce5_0242ac1c0002row2_col0 {\n",
              "            text-align:  left;\n",
              "        }    #T_0e1bf280_5b1c_11ea_bce5_0242ac1c0002row3_col0 {\n",
              "            text-align:  left;\n",
              "        }    #T_0e1bf280_5b1c_11ea_bce5_0242ac1c0002row4_col0 {\n",
              "            text-align:  left;\n",
              "        }    #T_0e1bf280_5b1c_11ea_bce5_0242ac1c0002row5_col0 {\n",
              "            text-align:  left;\n",
              "        }    #T_0e1bf280_5b1c_11ea_bce5_0242ac1c0002row6_col0 {\n",
              "            text-align:  left;\n",
              "        }    #T_0e1bf280_5b1c_11ea_bce5_0242ac1c0002row7_col0 {\n",
              "            text-align:  left;\n",
              "        }    #T_0e1bf280_5b1c_11ea_bce5_0242ac1c0002row8_col0 {\n",
              "            text-align:  left;\n",
              "        }    #T_0e1bf280_5b1c_11ea_bce5_0242ac1c0002row9_col0 {\n",
              "            text-align:  left;\n",
              "        }    #T_0e1bf280_5b1c_11ea_bce5_0242ac1c0002row10_col0 {\n",
              "            text-align:  left;\n",
              "        }    #T_0e1bf280_5b1c_11ea_bce5_0242ac1c0002row11_col0 {\n",
              "            text-align:  left;\n",
              "        }    #T_0e1bf280_5b1c_11ea_bce5_0242ac1c0002row12_col0 {\n",
              "            text-align:  left;\n",
              "        }    #T_0e1bf280_5b1c_11ea_bce5_0242ac1c0002row13_col0 {\n",
              "            text-align:  left;\n",
              "        }    #T_0e1bf280_5b1c_11ea_bce5_0242ac1c0002row14_col0 {\n",
              "            text-align:  left;\n",
              "        }    #T_0e1bf280_5b1c_11ea_bce5_0242ac1c0002row15_col0 {\n",
              "            text-align:  left;\n",
              "        }    #T_0e1bf280_5b1c_11ea_bce5_0242ac1c0002row16_col0 {\n",
              "            text-align:  left;\n",
              "        }    #T_0e1bf280_5b1c_11ea_bce5_0242ac1c0002row17_col0 {\n",
              "            text-align:  left;\n",
              "        }    #T_0e1bf280_5b1c_11ea_bce5_0242ac1c0002row18_col0 {\n",
              "            text-align:  left;\n",
              "        }    #T_0e1bf280_5b1c_11ea_bce5_0242ac1c0002row19_col0 {\n",
              "            text-align:  left;\n",
              "        }    #T_0e1bf280_5b1c_11ea_bce5_0242ac1c0002row20_col0 {\n",
              "            text-align:  left;\n",
              "        }    #T_0e1bf280_5b1c_11ea_bce5_0242ac1c0002row21_col0 {\n",
              "            text-align:  left;\n",
              "        }    #T_0e1bf280_5b1c_11ea_bce5_0242ac1c0002row22_col0 {\n",
              "            text-align:  left;\n",
              "        }    #T_0e1bf280_5b1c_11ea_bce5_0242ac1c0002row23_col0 {\n",
              "            text-align:  left;\n",
              "        }    #T_0e1bf280_5b1c_11ea_bce5_0242ac1c0002row24_col0 {\n",
              "            text-align:  left;\n",
              "        }    #T_0e1bf280_5b1c_11ea_bce5_0242ac1c0002row25_col0 {\n",
              "            text-align:  left;\n",
              "        }    #T_0e1bf280_5b1c_11ea_bce5_0242ac1c0002row26_col0 {\n",
              "            text-align:  left;\n",
              "        }    #T_0e1bf280_5b1c_11ea_bce5_0242ac1c0002row27_col0 {\n",
              "            text-align:  left;\n",
              "        }    #T_0e1bf280_5b1c_11ea_bce5_0242ac1c0002row28_col0 {\n",
              "            text-align:  left;\n",
              "        }    #T_0e1bf280_5b1c_11ea_bce5_0242ac1c0002row29_col0 {\n",
              "            text-align:  left;\n",
              "        }    #T_0e1bf280_5b1c_11ea_bce5_0242ac1c0002row30_col0 {\n",
              "            text-align:  left;\n",
              "        }    #T_0e1bf280_5b1c_11ea_bce5_0242ac1c0002row31_col0 {\n",
              "            text-align:  left;\n",
              "        }    #T_0e1bf280_5b1c_11ea_bce5_0242ac1c0002row32_col0 {\n",
              "            text-align:  left;\n",
              "        }    #T_0e1bf280_5b1c_11ea_bce5_0242ac1c0002row33_col0 {\n",
              "            text-align:  left;\n",
              "        }    #T_0e1bf280_5b1c_11ea_bce5_0242ac1c0002row34_col0 {\n",
              "            text-align:  left;\n",
              "        }    #T_0e1bf280_5b1c_11ea_bce5_0242ac1c0002row35_col0 {\n",
              "            text-align:  left;\n",
              "        }    #T_0e1bf280_5b1c_11ea_bce5_0242ac1c0002row36_col0 {\n",
              "            text-align:  left;\n",
              "        }    #T_0e1bf280_5b1c_11ea_bce5_0242ac1c0002row37_col0 {\n",
              "            text-align:  left;\n",
              "        }    #T_0e1bf280_5b1c_11ea_bce5_0242ac1c0002row38_col0 {\n",
              "            text-align:  left;\n",
              "        }    #T_0e1bf280_5b1c_11ea_bce5_0242ac1c0002row39_col0 {\n",
              "            text-align:  left;\n",
              "        }    #T_0e1bf280_5b1c_11ea_bce5_0242ac1c0002row40_col0 {\n",
              "            text-align:  left;\n",
              "        }    #T_0e1bf280_5b1c_11ea_bce5_0242ac1c0002row41_col0 {\n",
              "            text-align:  left;\n",
              "        }    #T_0e1bf280_5b1c_11ea_bce5_0242ac1c0002row42_col0 {\n",
              "            text-align:  left;\n",
              "        }    #T_0e1bf280_5b1c_11ea_bce5_0242ac1c0002row43_col0 {\n",
              "            text-align:  left;\n",
              "        }    #T_0e1bf280_5b1c_11ea_bce5_0242ac1c0002row44_col0 {\n",
              "            text-align:  left;\n",
              "        }</style><table id=\"T_0e1bf280_5b1c_11ea_bce5_0242ac1c0002\" ><thead>    <tr>        <th class=\"blank level0\" ></th>        <th class=\"col_heading level0 col0\" >Mapper</th>    </tr>    <tr>        <th class=\"index_name level0\" >Ref:</th>        <th class=\"blank\" ></th>    </tr></thead><tbody>\n",
              "                <tr>\n",
              "                        <th id=\"T_0e1bf280_5b1c_11ea_bce5_0242ac1c0002level0_row0\" class=\"row_heading level0 row0\" >0</th>\n",
              "                        <td id=\"T_0e1bf280_5b1c_11ea_bce5_0242ac1c0002row0_col0\" class=\"data row0 col0\" >id</td>\n",
              "            </tr>\n",
              "            <tr>\n",
              "                        <th id=\"T_0e1bf280_5b1c_11ea_bce5_0242ac1c0002level0_row1\" class=\"row_heading level0 row1\" >1</th>\n",
              "                        <td id=\"T_0e1bf280_5b1c_11ea_bce5_0242ac1c0002row1_col0\" class=\"data row1 col0\" >dur</td>\n",
              "            </tr>\n",
              "            <tr>\n",
              "                        <th id=\"T_0e1bf280_5b1c_11ea_bce5_0242ac1c0002level0_row2\" class=\"row_heading level0 row2\" >2</th>\n",
              "                        <td id=\"T_0e1bf280_5b1c_11ea_bce5_0242ac1c0002row2_col0\" class=\"data row2 col0\" >proto</td>\n",
              "            </tr>\n",
              "            <tr>\n",
              "                        <th id=\"T_0e1bf280_5b1c_11ea_bce5_0242ac1c0002level0_row3\" class=\"row_heading level0 row3\" >3</th>\n",
              "                        <td id=\"T_0e1bf280_5b1c_11ea_bce5_0242ac1c0002row3_col0\" class=\"data row3 col0\" >service</td>\n",
              "            </tr>\n",
              "            <tr>\n",
              "                        <th id=\"T_0e1bf280_5b1c_11ea_bce5_0242ac1c0002level0_row4\" class=\"row_heading level0 row4\" >4</th>\n",
              "                        <td id=\"T_0e1bf280_5b1c_11ea_bce5_0242ac1c0002row4_col0\" class=\"data row4 col0\" >state</td>\n",
              "            </tr>\n",
              "            <tr>\n",
              "                        <th id=\"T_0e1bf280_5b1c_11ea_bce5_0242ac1c0002level0_row5\" class=\"row_heading level0 row5\" >5</th>\n",
              "                        <td id=\"T_0e1bf280_5b1c_11ea_bce5_0242ac1c0002row5_col0\" class=\"data row5 col0\" >spkts</td>\n",
              "            </tr>\n",
              "            <tr>\n",
              "                        <th id=\"T_0e1bf280_5b1c_11ea_bce5_0242ac1c0002level0_row6\" class=\"row_heading level0 row6\" >6</th>\n",
              "                        <td id=\"T_0e1bf280_5b1c_11ea_bce5_0242ac1c0002row6_col0\" class=\"data row6 col0\" >dpkts</td>\n",
              "            </tr>\n",
              "            <tr>\n",
              "                        <th id=\"T_0e1bf280_5b1c_11ea_bce5_0242ac1c0002level0_row7\" class=\"row_heading level0 row7\" >7</th>\n",
              "                        <td id=\"T_0e1bf280_5b1c_11ea_bce5_0242ac1c0002row7_col0\" class=\"data row7 col0\" >sbytes</td>\n",
              "            </tr>\n",
              "            <tr>\n",
              "                        <th id=\"T_0e1bf280_5b1c_11ea_bce5_0242ac1c0002level0_row8\" class=\"row_heading level0 row8\" >8</th>\n",
              "                        <td id=\"T_0e1bf280_5b1c_11ea_bce5_0242ac1c0002row8_col0\" class=\"data row8 col0\" >dbytes</td>\n",
              "            </tr>\n",
              "            <tr>\n",
              "                        <th id=\"T_0e1bf280_5b1c_11ea_bce5_0242ac1c0002level0_row9\" class=\"row_heading level0 row9\" >9</th>\n",
              "                        <td id=\"T_0e1bf280_5b1c_11ea_bce5_0242ac1c0002row9_col0\" class=\"data row9 col0\" >rate</td>\n",
              "            </tr>\n",
              "            <tr>\n",
              "                        <th id=\"T_0e1bf280_5b1c_11ea_bce5_0242ac1c0002level0_row10\" class=\"row_heading level0 row10\" >10</th>\n",
              "                        <td id=\"T_0e1bf280_5b1c_11ea_bce5_0242ac1c0002row10_col0\" class=\"data row10 col0\" >sttl</td>\n",
              "            </tr>\n",
              "            <tr>\n",
              "                        <th id=\"T_0e1bf280_5b1c_11ea_bce5_0242ac1c0002level0_row11\" class=\"row_heading level0 row11\" >11</th>\n",
              "                        <td id=\"T_0e1bf280_5b1c_11ea_bce5_0242ac1c0002row11_col0\" class=\"data row11 col0\" >dttl</td>\n",
              "            </tr>\n",
              "            <tr>\n",
              "                        <th id=\"T_0e1bf280_5b1c_11ea_bce5_0242ac1c0002level0_row12\" class=\"row_heading level0 row12\" >12</th>\n",
              "                        <td id=\"T_0e1bf280_5b1c_11ea_bce5_0242ac1c0002row12_col0\" class=\"data row12 col0\" >sload</td>\n",
              "            </tr>\n",
              "            <tr>\n",
              "                        <th id=\"T_0e1bf280_5b1c_11ea_bce5_0242ac1c0002level0_row13\" class=\"row_heading level0 row13\" >13</th>\n",
              "                        <td id=\"T_0e1bf280_5b1c_11ea_bce5_0242ac1c0002row13_col0\" class=\"data row13 col0\" >dload</td>\n",
              "            </tr>\n",
              "            <tr>\n",
              "                        <th id=\"T_0e1bf280_5b1c_11ea_bce5_0242ac1c0002level0_row14\" class=\"row_heading level0 row14\" >14</th>\n",
              "                        <td id=\"T_0e1bf280_5b1c_11ea_bce5_0242ac1c0002row14_col0\" class=\"data row14 col0\" >sloss</td>\n",
              "            </tr>\n",
              "            <tr>\n",
              "                        <th id=\"T_0e1bf280_5b1c_11ea_bce5_0242ac1c0002level0_row15\" class=\"row_heading level0 row15\" >15</th>\n",
              "                        <td id=\"T_0e1bf280_5b1c_11ea_bce5_0242ac1c0002row15_col0\" class=\"data row15 col0\" >dloss</td>\n",
              "            </tr>\n",
              "            <tr>\n",
              "                        <th id=\"T_0e1bf280_5b1c_11ea_bce5_0242ac1c0002level0_row16\" class=\"row_heading level0 row16\" >16</th>\n",
              "                        <td id=\"T_0e1bf280_5b1c_11ea_bce5_0242ac1c0002row16_col0\" class=\"data row16 col0\" >sinpkt</td>\n",
              "            </tr>\n",
              "            <tr>\n",
              "                        <th id=\"T_0e1bf280_5b1c_11ea_bce5_0242ac1c0002level0_row17\" class=\"row_heading level0 row17\" >17</th>\n",
              "                        <td id=\"T_0e1bf280_5b1c_11ea_bce5_0242ac1c0002row17_col0\" class=\"data row17 col0\" >dinpkt</td>\n",
              "            </tr>\n",
              "            <tr>\n",
              "                        <th id=\"T_0e1bf280_5b1c_11ea_bce5_0242ac1c0002level0_row18\" class=\"row_heading level0 row18\" >18</th>\n",
              "                        <td id=\"T_0e1bf280_5b1c_11ea_bce5_0242ac1c0002row18_col0\" class=\"data row18 col0\" >sjit</td>\n",
              "            </tr>\n",
              "            <tr>\n",
              "                        <th id=\"T_0e1bf280_5b1c_11ea_bce5_0242ac1c0002level0_row19\" class=\"row_heading level0 row19\" >19</th>\n",
              "                        <td id=\"T_0e1bf280_5b1c_11ea_bce5_0242ac1c0002row19_col0\" class=\"data row19 col0\" >djit</td>\n",
              "            </tr>\n",
              "            <tr>\n",
              "                        <th id=\"T_0e1bf280_5b1c_11ea_bce5_0242ac1c0002level0_row20\" class=\"row_heading level0 row20\" >20</th>\n",
              "                        <td id=\"T_0e1bf280_5b1c_11ea_bce5_0242ac1c0002row20_col0\" class=\"data row20 col0\" >swin</td>\n",
              "            </tr>\n",
              "            <tr>\n",
              "                        <th id=\"T_0e1bf280_5b1c_11ea_bce5_0242ac1c0002level0_row21\" class=\"row_heading level0 row21\" >21</th>\n",
              "                        <td id=\"T_0e1bf280_5b1c_11ea_bce5_0242ac1c0002row21_col0\" class=\"data row21 col0\" >stcpb</td>\n",
              "            </tr>\n",
              "            <tr>\n",
              "                        <th id=\"T_0e1bf280_5b1c_11ea_bce5_0242ac1c0002level0_row22\" class=\"row_heading level0 row22\" >22</th>\n",
              "                        <td id=\"T_0e1bf280_5b1c_11ea_bce5_0242ac1c0002row22_col0\" class=\"data row22 col0\" >dtcpb</td>\n",
              "            </tr>\n",
              "            <tr>\n",
              "                        <th id=\"T_0e1bf280_5b1c_11ea_bce5_0242ac1c0002level0_row23\" class=\"row_heading level0 row23\" >23</th>\n",
              "                        <td id=\"T_0e1bf280_5b1c_11ea_bce5_0242ac1c0002row23_col0\" class=\"data row23 col0\" >dwin</td>\n",
              "            </tr>\n",
              "            <tr>\n",
              "                        <th id=\"T_0e1bf280_5b1c_11ea_bce5_0242ac1c0002level0_row24\" class=\"row_heading level0 row24\" >24</th>\n",
              "                        <td id=\"T_0e1bf280_5b1c_11ea_bce5_0242ac1c0002row24_col0\" class=\"data row24 col0\" >tcprtt</td>\n",
              "            </tr>\n",
              "            <tr>\n",
              "                        <th id=\"T_0e1bf280_5b1c_11ea_bce5_0242ac1c0002level0_row25\" class=\"row_heading level0 row25\" >25</th>\n",
              "                        <td id=\"T_0e1bf280_5b1c_11ea_bce5_0242ac1c0002row25_col0\" class=\"data row25 col0\" >synack</td>\n",
              "            </tr>\n",
              "            <tr>\n",
              "                        <th id=\"T_0e1bf280_5b1c_11ea_bce5_0242ac1c0002level0_row26\" class=\"row_heading level0 row26\" >26</th>\n",
              "                        <td id=\"T_0e1bf280_5b1c_11ea_bce5_0242ac1c0002row26_col0\" class=\"data row26 col0\" >ackdat</td>\n",
              "            </tr>\n",
              "            <tr>\n",
              "                        <th id=\"T_0e1bf280_5b1c_11ea_bce5_0242ac1c0002level0_row27\" class=\"row_heading level0 row27\" >27</th>\n",
              "                        <td id=\"T_0e1bf280_5b1c_11ea_bce5_0242ac1c0002row27_col0\" class=\"data row27 col0\" >smean</td>\n",
              "            </tr>\n",
              "            <tr>\n",
              "                        <th id=\"T_0e1bf280_5b1c_11ea_bce5_0242ac1c0002level0_row28\" class=\"row_heading level0 row28\" >28</th>\n",
              "                        <td id=\"T_0e1bf280_5b1c_11ea_bce5_0242ac1c0002row28_col0\" class=\"data row28 col0\" >dmean</td>\n",
              "            </tr>\n",
              "            <tr>\n",
              "                        <th id=\"T_0e1bf280_5b1c_11ea_bce5_0242ac1c0002level0_row29\" class=\"row_heading level0 row29\" >29</th>\n",
              "                        <td id=\"T_0e1bf280_5b1c_11ea_bce5_0242ac1c0002row29_col0\" class=\"data row29 col0\" >trans_depth</td>\n",
              "            </tr>\n",
              "            <tr>\n",
              "                        <th id=\"T_0e1bf280_5b1c_11ea_bce5_0242ac1c0002level0_row30\" class=\"row_heading level0 row30\" >30</th>\n",
              "                        <td id=\"T_0e1bf280_5b1c_11ea_bce5_0242ac1c0002row30_col0\" class=\"data row30 col0\" >response_body_len</td>\n",
              "            </tr>\n",
              "            <tr>\n",
              "                        <th id=\"T_0e1bf280_5b1c_11ea_bce5_0242ac1c0002level0_row31\" class=\"row_heading level0 row31\" >31</th>\n",
              "                        <td id=\"T_0e1bf280_5b1c_11ea_bce5_0242ac1c0002row31_col0\" class=\"data row31 col0\" >ct_srv_src</td>\n",
              "            </tr>\n",
              "            <tr>\n",
              "                        <th id=\"T_0e1bf280_5b1c_11ea_bce5_0242ac1c0002level0_row32\" class=\"row_heading level0 row32\" >32</th>\n",
              "                        <td id=\"T_0e1bf280_5b1c_11ea_bce5_0242ac1c0002row32_col0\" class=\"data row32 col0\" >ct_state_ttl</td>\n",
              "            </tr>\n",
              "            <tr>\n",
              "                        <th id=\"T_0e1bf280_5b1c_11ea_bce5_0242ac1c0002level0_row33\" class=\"row_heading level0 row33\" >33</th>\n",
              "                        <td id=\"T_0e1bf280_5b1c_11ea_bce5_0242ac1c0002row33_col0\" class=\"data row33 col0\" >ct_dst_ltm</td>\n",
              "            </tr>\n",
              "            <tr>\n",
              "                        <th id=\"T_0e1bf280_5b1c_11ea_bce5_0242ac1c0002level0_row34\" class=\"row_heading level0 row34\" >34</th>\n",
              "                        <td id=\"T_0e1bf280_5b1c_11ea_bce5_0242ac1c0002row34_col0\" class=\"data row34 col0\" >ct_src_dport_ltm</td>\n",
              "            </tr>\n",
              "            <tr>\n",
              "                        <th id=\"T_0e1bf280_5b1c_11ea_bce5_0242ac1c0002level0_row35\" class=\"row_heading level0 row35\" >35</th>\n",
              "                        <td id=\"T_0e1bf280_5b1c_11ea_bce5_0242ac1c0002row35_col0\" class=\"data row35 col0\" >ct_dst_sport_ltm</td>\n",
              "            </tr>\n",
              "            <tr>\n",
              "                        <th id=\"T_0e1bf280_5b1c_11ea_bce5_0242ac1c0002level0_row36\" class=\"row_heading level0 row36\" >36</th>\n",
              "                        <td id=\"T_0e1bf280_5b1c_11ea_bce5_0242ac1c0002row36_col0\" class=\"data row36 col0\" >ct_dst_src_ltm</td>\n",
              "            </tr>\n",
              "            <tr>\n",
              "                        <th id=\"T_0e1bf280_5b1c_11ea_bce5_0242ac1c0002level0_row37\" class=\"row_heading level0 row37\" >37</th>\n",
              "                        <td id=\"T_0e1bf280_5b1c_11ea_bce5_0242ac1c0002row37_col0\" class=\"data row37 col0\" >is_ftp_login</td>\n",
              "            </tr>\n",
              "            <tr>\n",
              "                        <th id=\"T_0e1bf280_5b1c_11ea_bce5_0242ac1c0002level0_row38\" class=\"row_heading level0 row38\" >38</th>\n",
              "                        <td id=\"T_0e1bf280_5b1c_11ea_bce5_0242ac1c0002row38_col0\" class=\"data row38 col0\" >ct_ftp_cmd</td>\n",
              "            </tr>\n",
              "            <tr>\n",
              "                        <th id=\"T_0e1bf280_5b1c_11ea_bce5_0242ac1c0002level0_row39\" class=\"row_heading level0 row39\" >39</th>\n",
              "                        <td id=\"T_0e1bf280_5b1c_11ea_bce5_0242ac1c0002row39_col0\" class=\"data row39 col0\" >ct_flw_http_mthd</td>\n",
              "            </tr>\n",
              "            <tr>\n",
              "                        <th id=\"T_0e1bf280_5b1c_11ea_bce5_0242ac1c0002level0_row40\" class=\"row_heading level0 row40\" >40</th>\n",
              "                        <td id=\"T_0e1bf280_5b1c_11ea_bce5_0242ac1c0002row40_col0\" class=\"data row40 col0\" >ct_src_ltm</td>\n",
              "            </tr>\n",
              "            <tr>\n",
              "                        <th id=\"T_0e1bf280_5b1c_11ea_bce5_0242ac1c0002level0_row41\" class=\"row_heading level0 row41\" >41</th>\n",
              "                        <td id=\"T_0e1bf280_5b1c_11ea_bce5_0242ac1c0002row41_col0\" class=\"data row41 col0\" >ct_srv_dst</td>\n",
              "            </tr>\n",
              "            <tr>\n",
              "                        <th id=\"T_0e1bf280_5b1c_11ea_bce5_0242ac1c0002level0_row42\" class=\"row_heading level0 row42\" >42</th>\n",
              "                        <td id=\"T_0e1bf280_5b1c_11ea_bce5_0242ac1c0002row42_col0\" class=\"data row42 col0\" >is_sm_ips_ports</td>\n",
              "            </tr>\n",
              "            <tr>\n",
              "                        <th id=\"T_0e1bf280_5b1c_11ea_bce5_0242ac1c0002level0_row43\" class=\"row_heading level0 row43\" >43</th>\n",
              "                        <td id=\"T_0e1bf280_5b1c_11ea_bce5_0242ac1c0002row43_col0\" class=\"data row43 col0\" >attack_cat</td>\n",
              "            </tr>\n",
              "            <tr>\n",
              "                        <th id=\"T_0e1bf280_5b1c_11ea_bce5_0242ac1c0002level0_row44\" class=\"row_heading level0 row44\" >44</th>\n",
              "                        <td id=\"T_0e1bf280_5b1c_11ea_bce5_0242ac1c0002row44_col0\" class=\"data row44 col0\" >label</td>\n",
              "            </tr>\n",
              "    </tbody></table>"
            ],
            "text/plain": [
              "<pandas.io.formats.style.Styler at 0x7fc9a17fa780>"
            ]
          },
          "metadata": {
            "tags": []
          },
          "execution_count": 58
        }
      ]
    },
    {
      "cell_type": "code",
      "metadata": {
        "id": "I3UVJ39GqiKe",
        "colab_type": "code",
        "colab": {
          "base_uri": "https://localhost:8080/",
          "height": 88
        },
        "outputId": "4085bc82-bb2a-4c00-a242-b122f93fa52f"
      },
      "source": [
        "df.dtypes.value_counts()"
      ],
      "execution_count": 59,
      "outputs": [
        {
          "output_type": "execute_result",
          "data": {
            "text/plain": [
              "int64      30\n",
              "float64    11\n",
              "object      4\n",
              "dtype: int64"
            ]
          },
          "metadata": {
            "tags": []
          },
          "execution_count": 59
        }
      ]
    },
    {
      "cell_type": "code",
      "metadata": {
        "id": "uerxBtmvfOSl",
        "colab_type": "code",
        "outputId": "a7165f22-587f-4eed-9986-b11a82c89a51",
        "colab": {
          "base_uri": "https://localhost:8080/",
          "height": 106
        }
      },
      "source": [
        "df.dtypes[df.dtypes == 'object']"
      ],
      "execution_count": 60,
      "outputs": [
        {
          "output_type": "execute_result",
          "data": {
            "text/plain": [
              "proto         object\n",
              "service       object\n",
              "state         object\n",
              "attack_cat    object\n",
              "dtype: object"
            ]
          },
          "metadata": {
            "tags": []
          },
          "execution_count": 60
        }
      ]
    },
    {
      "cell_type": "code",
      "metadata": {
        "id": "XjHwt9vVfwik",
        "colab_type": "code",
        "colab": {}
      },
      "source": [
        "corr = df.corr()"
      ],
      "execution_count": 0,
      "outputs": []
    },
    {
      "cell_type": "code",
      "metadata": {
        "id": "IIp9vzaAhIeH",
        "colab_type": "code",
        "outputId": "e0f2fc4d-8f77-48bf-8837-ef2ea5e6ab0c",
        "colab": {
          "base_uri": "https://localhost:8080/",
          "height": 804
        }
      },
      "source": [
        "#correlation matrix for the data set\n",
        "mask = np.triu(np.ones_like(corr, dtype=np.bool))\n",
        "\n",
        "f, ax = plt.subplots(figsize=(16,12))\n",
        "\n",
        "cmap = sns.diverging_palette(220, 10, as_cmap=True)\n",
        "\n",
        "sns.heatmap(corr,mask=mask, cmap=cmap, vmax=.3, center=0,\n",
        "            square=True, linewidths=.5, cbar_kws={'shrink': .5})\n",
        "plt.title('Correlation Heatmap for UNSW-NB15 Dataset', fontsize = 16)\n",
        "\n",
        "plt.savefig('UNSW_corr.png',format='png')\n",
        "files.download('UNSW_corr.png')"
      ],
      "execution_count": 168,
      "outputs": [
        {
          "output_type": "display_data",
          "data": {
            "image/png": "[encoded data removed]",
            "text/plain": [
              "<Figure size 1152x864 with 2 Axes>"
            ]
          },
          "metadata": {
            "tags": []
          }
        }
      ]
    },
    {
      "cell_type": "markdown",
      "metadata": {
        "id": "vAm4DPkFzIpl",
        "colab_type": "text"
      },
      "source": [
        "A correlation matrix is useful on numeric data, but what about the 3 non-numeric features (we know the 'attack_cat' column to be the 9 different attack types)? "
      ]
    },
    {
      "cell_type": "code",
      "metadata": {
        "id": "ecO_gHMXzV4c",
        "colab_type": "code",
        "colab": {
          "base_uri": "https://localhost:8080/",
          "height": 106
        },
        "outputId": "e357814f-66c5-40b0-fc14-caf94ad8d45d"
      },
      "source": [
        "# As a reminder, the 3 non-numeric features are:\n",
        "df.dtypes[df.dtypes == 'object']"
      ],
      "execution_count": 63,
      "outputs": [
        {
          "output_type": "execute_result",
          "data": {
            "text/plain": [
              "proto         object\n",
              "service       object\n",
              "state         object\n",
              "attack_cat    object\n",
              "dtype: object"
            ]
          },
          "metadata": {
            "tags": []
          },
          "execution_count": 63
        }
      ]
    },
    {
      "cell_type": "code",
      "metadata": {
        "id": "KAU53c_UkUdp",
        "colab_type": "code",
        "outputId": "8d63953b-fb1c-4fa9-f9ef-16498c3c67cf",
        "colab": {
          "base_uri": "https://localhost:8080/",
          "height": 230
        }
      },
      "source": [
        "df.proto.value_counts()"
      ],
      "execution_count": 64,
      "outputs": [
        {
          "output_type": "execute_result",
          "data": {
            "text/plain": [
              "tcp     79946\n",
              "udp     63283\n",
              "unas    12084\n",
              "arp      2859\n",
              "ospf     2595\n",
              "        ...  \n",
              "rdp        98\n",
              "hmp        98\n",
              "igmp       18\n",
              "icmp       15\n",
              "rtp         1\n",
              "Name: proto, Length: 133, dtype: int64"
            ]
          },
          "metadata": {
            "tags": []
          },
          "execution_count": 64
        }
      ]
    },
    {
      "cell_type": "code",
      "metadata": {
        "id": "KHSnEurUzjU0",
        "colab_type": "code",
        "colab": {
          "base_uri": "https://localhost:8080/",
          "height": 266
        },
        "outputId": "6be649d3-2f02-4f96-a84b-e5e32b8e2095"
      },
      "source": [
        "df.service.value_counts()"
      ],
      "execution_count": 65,
      "outputs": [
        {
          "output_type": "execute_result",
          "data": {
            "text/plain": [
              "-           94168\n",
              "dns         47294\n",
              "http        18724\n",
              "smtp         5058\n",
              "ftp-data     3995\n",
              "ftp          3428\n",
              "ssh          1302\n",
              "pop3         1105\n",
              "dhcp           94\n",
              "snmp           80\n",
              "ssl            56\n",
              "irc            25\n",
              "radius         12\n",
              "Name: service, dtype: int64"
            ]
          },
          "metadata": {
            "tags": []
          },
          "execution_count": 65
        }
      ]
    },
    {
      "cell_type": "code",
      "metadata": {
        "id": "KnzxZVNDjzUT",
        "colab_type": "code",
        "outputId": "369621f0-33e8-4ca7-e8b7-302c48df429c",
        "colab": {
          "base_uri": "https://localhost:8080/",
          "height": 195
        }
      },
      "source": [
        "df.state.value_counts()"
      ],
      "execution_count": 66,
      "outputs": [
        {
          "output_type": "execute_result",
          "data": {
            "text/plain": [
              "INT    82275\n",
              "FIN    77825\n",
              "CON    13152\n",
              "REQ     1991\n",
              "RST       83\n",
              "ECO       12\n",
              "no         1\n",
              "PAR        1\n",
              "URN        1\n",
              "Name: state, dtype: int64"
            ]
          },
          "metadata": {
            "tags": []
          },
          "execution_count": 66
        }
      ]
    },
    {
      "cell_type": "markdown",
      "metadata": {
        "id": "f-kPQqZNGmmU",
        "colab_type": "text"
      },
      "source": [
        "**Research on features. These are some of the most important features as recognized by existing research.**\n",
        "\n",
        "---\n",
        "\n"
      ]
    },
    {
      "cell_type": "markdown",
      "metadata": {
        "id": "y0BecwghvX3e",
        "colab_type": "text"
      },
      "source": [
        "https://ieeexplore-ieee-org.proxy-bc.researchport.umd.edu/document/7809531  \n",
        "**The Significant Features of the UNSW-NB15 and the KDD99 Data Sets for Network Intrusion Detection Systems**  \n",
        "*Nour Moustafa ; Jill Slay*\n",
        "\n",
        "An association rule mining (ARM) technique generates feature correlations from a data set, as it can find out related isomorphism between data set observations.  \n",
        "  "
      ]
    },
    {
      "cell_type": "markdown",
      "metadata": {
        "id": "Ze6uVPd2uUkv",
        "colab_type": "text"
      },
      "source": [
        "https://ieeexplore-ieee-org.proxy-bc.researchport.umd.edu/document/8001537  \n",
        "**Feature selection in UNSW-NB15 and KDDCUP'99 datasets**  \n",
        "*Tharmini Janarthanan ; Shahrzad Zargari*\n",
        "\n",
        "These features are defined as Source to destination time to live **[sttl]**, No. of rows of the same srcip and the dstip in 100 records **[ct_dst_sre_ltm]**, source to destination packet count **[spkts]**, destination bits per second **[dload]**, source packets retransmitted or dropped **[sloss]**, destination packets retransmitted or dropped **[dloss]**, No. of rows of the srcip in 100 rows **[ct_src_ltm]** and No. of rows of the same service and dstip in 100 rows **[ct_srv_dst]**.  \n",
        "\n",
        "These features are defined as Service type (e.g. http, ftp, smtp, … etc) **[service]**, Source to destination bytes **[sbytes]**, Source to destination time to live **[sttl]**, Mean of packet size transmitted by the srcip **[smean]** and No. of rows of the same dstip and the sport in 100 rows **[ct_dst_sport_ltm]**.  \n",
        "\n",
        "\n",
        "---\n",
        "\n",
        "\n",
        "\n",
        "---\n",
        "\n"
      ]
    },
    {
      "cell_type": "markdown",
      "metadata": {
        "id": "vwjJ3UiqGVFL",
        "colab_type": "text"
      },
      "source": [
        "**Definition: sttl (source time-to-live)**  \n",
        "https://searchnetworking.techtarget.com/definition/time-to-live  \n",
        "Time-to-live (TTL) is a value in an Internet Protocol (IP) packet that tells a network router whether or not the packet has been in the network too long and should be discarded. In IPv6 the TTL field in each packet has been renamed the hop limit.\n",
        "\n",
        "\n",
        "An IP TTL is set initially by the system sending the packet. It can be set to any value between 1 and 255; different operating systems set different defaults. Each router that receives the packet subtracts at least 1 from the count; if the count remains greater than 0, the router forwards the packet, otherwise it discards it and sends an Internet Control Message Protocol (ICMP) message back to the originating host, which may trigger a resend.\n",
        "\n",
        "The point of the TTL/hop limit is to keep streams of undeliverable packets stuck in routing loops (perhaps due to incorrect routing tables) from circulating forever and clogging up the networks in question. In Multiprotocol Label Switching (MPLS) clouds, the MPLS TTL is copied from the IP TTL when the IP packet enters the cloud. On egress, the MPLS TTL value is copied into the IP TTL field (as long as it is less than the value in the field). \n",
        "\n",
        "In IP multicast, the TTL controls the scope or range in which a packet may be forwarded. By convention:  \n",
        "\n",
        "0 is restricted to the same host  \n",
        "1 is restricted to the same subnet  \n",
        "32 is restricted to the same site  \n",
        "64 is restricted to the same region  \n",
        "128 is restricted to the same continent  \n",
        "255 is unrestricted  "
      ]
    },
    {
      "cell_type": "code",
      "metadata": {
        "id": "Vdzh5FNkGUdT",
        "colab_type": "code",
        "colab": {
          "base_uri": "https://localhost:8080/",
          "height": 792
        },
        "outputId": "a943e44a-e56a-47e1-e25c-e0fc380ed92a"
      },
      "source": [
        "fig, ax = plt.subplots(figsize=(16,12))\n",
        "p1 = sns.distplot(df.sttl[df.label == 0],bins=50,kde=False,hist_kws={\"linewidth\": .9, 'edgecolor':'black'})\n",
        "p2 = sns.distplot(df.sttl[df.label == 1],bins=50,kde=False,hist_kws={\"linewidth\": .9, 'edgecolor':'black'})\n",
        "sns.despine(top=True, right=True, left=False, bottom=False)\n",
        "plt.title('Source Time-To-Live by Normal or Attack',fontsize=22)\n",
        "ax.legend(df.sttl,labels=['Normal','Attack'],fontsize = 18)\n",
        "#plt.savefig('UNSW_sttl.png',format='png')\n",
        "#files.download('UNSW_sttl.png')\n",
        "plt.show;"
      ],
      "execution_count": 174,
      "outputs": [
        {
          "output_type": "stream",
          "text": [
            "/usr/local/lib/python3.6/dist-packages/ipykernel_launcher.py:6: UserWarning: You have mixed positional and keyword arguments, some input may be discarded.\n",
            "  \n"
          ],
          "name": "stderr"
        },
        {
          "output_type": "display_data",
          "data": {
            "image/png": "[encoded data removed]",
            "text/plain": [
              "<Figure size 1152x864 with 1 Axes>"
            ]
          },
          "metadata": {
            "tags": []
          }
        }
      ]
    },
    {
      "cell_type": "code",
      "metadata": {
        "id": "wK9HFIc7kb_P",
        "colab_type": "code",
        "colab": {
          "base_uri": "https://localhost:8080/",
          "height": 195
        },
        "outputId": "9a11376a-5277-4ef1-c73f-082466b09d90"
      },
      "source": [
        "sttl_greater_50 = df.attack_cat[(df.label == 1) & (df.sttl > 50)].value_counts()\n",
        "sttl_greater_50"
      ],
      "execution_count": 94,
      "outputs": [
        {
          "output_type": "execute_result",
          "data": {
            "text/plain": [
              "Generic           39997\n",
              "Exploits          33222\n",
              "Fuzzers           18169\n",
              "DoS               12192\n",
              "Reconnaissance    10467\n",
              "Analysis           1997\n",
              "Backdoor           1731\n",
              "Shellcode          1133\n",
              "Worms               130\n",
              "Name: attack_cat, dtype: int64"
            ]
          },
          "metadata": {
            "tags": []
          },
          "execution_count": 94
        }
      ]
    },
    {
      "cell_type": "code",
      "metadata": {
        "id": "B0ZEQZplNG3p",
        "colab_type": "code",
        "colab": {
          "base_uri": "https://localhost:8080/",
          "height": 159
        },
        "outputId": "e804af17-cda5-4261-f33e-fad14f445719"
      },
      "source": [
        "sttl_less_50 = df.attack_cat[(df.label == 1) & (df.sttl < 50)].value_counts()\n",
        "sttl_less_50"
      ],
      "execution_count": 95,
      "outputs": [
        {
          "output_type": "execute_result",
          "data": {
            "text/plain": [
              "Exploits          171\n",
              "DoS                72\n",
              "Reconnaissance     24\n",
              "Fuzzers            15\n",
              "Backdoor           15\n",
              "Analysis            3\n",
              "Generic             3\n",
              "Name: attack_cat, dtype: int64"
            ]
          },
          "metadata": {
            "tags": []
          },
          "execution_count": 95
        }
      ]
    },
    {
      "cell_type": "code",
      "metadata": {
        "id": "ctzmDbe1N6R3",
        "colab_type": "code",
        "colab": {
          "base_uri": "https://localhost:8080/",
          "height": 52
        },
        "outputId": "17cf83a9-14c1-400d-b734-e78148d7a7e4"
      },
      "source": [
        "print('Percent of bad traffic sttl greater than 50: '+str(round(len(df[(df.label==1) & (df.sttl > 50)])/len(df[df.sttl > 50])*100,2))+'%')\n",
        "print('Percent of bad traffic sttl less than 50: '+str(round(len(df[(df.label==1) & (df.sttl < 50)])/len(df[df.sttl < 50])*100,2))+'%')"
      ],
      "execution_count": 161,
      "outputs": [
        {
          "output_type": "stream",
          "text": [
            "Percent of bad traffic sttl greater than 50: 89.73%\n",
            "Percent of bad traffic sttl less than 50: 0.71%\n"
          ],
          "name": "stdout"
        }
      ]
    },
    {
      "cell_type": "markdown",
      "metadata": {
        "id": "9_PkgFwcNsaB",
        "colab_type": "text"
      },
      "source": [
        "It is easy to see why sttl is such an important feature. If the sttl is less than 50, there is a 0.71 percent chance that the traffic is a bad actor, while at greater than 50 there is almost 9 in 10 chance of it being a bad actor."
      ]
    },
    {
      "cell_type": "markdown",
      "metadata": {
        "id": "exjA55oRXBL4",
        "colab_type": "text"
      },
      "source": [
        "**Definition: ct_dst_src_ltm**  \n",
        "Number of connections of the same source [Source IP, feature 1] and the destination [Destination IP, feature 3] address in 100 connections according to the last time [Feature 26, Actual uncompressed content size of the data transferred from the server’s http service]."
      ]
    },
    {
      "cell_type": "code",
      "metadata": {
        "id": "CrpP1j2wNOUg",
        "colab_type": "code",
        "colab": {
          "base_uri": "https://localhost:8080/",
          "height": 737
        },
        "outputId": "2c7c8ba3-0a0d-4cc4-c1f0-9d592b9c00c8"
      },
      "source": [
        "fig, ax = plt.subplots(figsize=(16,12))\n",
        "sns.distplot(df.ct_dst_src_ltm[df.label == 0],bins=50,kde=False,hist_kws={\"linewidth\": .9, 'edgecolor':'black'},label='Normal')\n",
        "sns.distplot(df.ct_dst_src_ltm[df.label == 1],bins=50,kde=False,hist_kws={\"linewidth\": .9, 'edgecolor':'black'},label='Attack')\n",
        "plt.legend(fontsize=18)\n",
        "sns.despine(top=True, right=True, left=False, bottom=False)\n",
        "plt.title('ct_dst_src_ltm by Normal or Attack',fontsize=22)\n",
        "#plt.savefig('UNSW_ct_dst_src_ltm.png',format='png')\n",
        "#files.download('UNSW_ct_dst_src_ltm.png')\n",
        "plt.show;"
      ],
      "execution_count": 190,
      "outputs": [
        {
          "output_type": "display_data",
          "data": {
            "image/png": "[encoded data removed]",
            "text/plain": [
              "<Figure size 1152x864 with 1 Axes>"
            ]
          },
          "metadata": {
            "tags": []
          }
        }
      ]
    },
    {
      "cell_type": "code",
      "metadata": {
        "id": "hplzDEpaZNB4",
        "colab_type": "code",
        "colab": {
          "base_uri": "https://localhost:8080/",
          "height": 177
        },
        "outputId": "ff3a3a73-b3dc-4ec8-c484-590d9921342f"
      },
      "source": [
        "ct_dst_src_ltm_greater_10 = df.attack_cat[(df.label == 1) & (df.ct_dst_src_ltm > 10)].value_counts()\n",
        "ct_dst_src_ltm_greater_10"
      ],
      "execution_count": 155,
      "outputs": [
        {
          "output_type": "execute_result",
          "data": {
            "text/plain": [
              "Generic           37737\n",
              "Exploits           1559\n",
              "Fuzzers            1329\n",
              "DoS                1313\n",
              "Reconnaissance      411\n",
              "Analysis            169\n",
              "Backdoor            168\n",
              "Shellcode            12\n",
              "Name: attack_cat, dtype: int64"
            ]
          },
          "metadata": {
            "tags": []
          },
          "execution_count": 155
        }
      ]
    },
    {
      "cell_type": "code",
      "metadata": {
        "id": "6Gq78NeAZWNO",
        "colab_type": "code",
        "colab": {
          "base_uri": "https://localhost:8080/",
          "height": 195
        },
        "outputId": "edcef022-f748-48cd-b906-0249003376f5"
      },
      "source": [
        "ct_dst_src_ltm_less_10 = df.attack_cat[(df.label == 1) & (df.ct_dst_src_ltm <= 10)].value_counts()\n",
        "ct_dst_src_ltm_less_10"
      ],
      "execution_count": 158,
      "outputs": [
        {
          "output_type": "execute_result",
          "data": {
            "text/plain": [
              "Exploits          31834\n",
              "Fuzzers           16855\n",
              "DoS               10951\n",
              "Reconnaissance    10080\n",
              "Generic            2263\n",
              "Analysis           1831\n",
              "Backdoor           1578\n",
              "Shellcode          1121\n",
              "Worms               130\n",
              "Name: attack_cat, dtype: int64"
            ]
          },
          "metadata": {
            "tags": []
          },
          "execution_count": 158
        }
      ]
    },
    {
      "cell_type": "code",
      "metadata": {
        "id": "cmDEdsBvZa5N",
        "colab_type": "code",
        "colab": {
          "base_uri": "https://localhost:8080/",
          "height": 52
        },
        "outputId": "f1566a65-cf0a-402c-a6bd-896f6a55649d"
      },
      "source": [
        "print('Percent of bad traffic ct_dst_src_ltm greater than 10: '+str(round(len(df[(df.label==1) & (df.ct_dst_src_ltm > 10)])/len(df[df.ct_dst_src_ltm > 10])*100,2))+'%')\n",
        "print('Percent of bad traffic ct_dst_src_ltm less than 10: '+str(round(len(df[(df.label==1) & (df.ct_dst_src_ltm <= 10)])/len(df[df.ct_dst_src_ltm <= 10])*100,2))+'%')"
      ],
      "execution_count": 164,
      "outputs": [
        {
          "output_type": "stream",
          "text": [
            "Percent of bad traffic ct_dst_src_ltm greater than 10: 94.45%\n",
            "Percent of bad traffic ct_dst_src_ltm less than 10: 58.89%\n"
          ],
          "name": "stdout"
        }
      ]
    },
    {
      "cell_type": "markdown",
      "metadata": {
        "id": "yKc_skLSmF8u",
        "colab_type": "text"
      },
      "source": [
        "**spkts**"
      ]
    },
    {
      "cell_type": "code",
      "metadata": {
        "id": "xKa9ARhxmgBk",
        "colab_type": "code",
        "colab": {
          "base_uri": "https://localhost:8080/",
          "height": 419
        },
        "outputId": "28db3fee-e133-4719-cf8b-8bf698cdcdec"
      },
      "source": [
        "df[df.spkts > 200]"
      ],
      "execution_count": 188,
      "outputs": [
        {
          "output_type": "execute_result",
          "data": {
            "text/html": [
              "<div>\n",
              "<style scoped>\n",
              "    .dataframe tbody tr th:only-of-type {\n",
              "        vertical-align: middle;\n",
              "    }\n",
              "\n",
              "    .dataframe tbody tr th {\n",
              "        vertical-align: top;\n",
              "    }\n",
              "\n",
              "    .dataframe thead th {\n",
              "        text-align: right;\n",
              "    }\n",
              "</style>\n",
              "<table border=\"1\" class=\"dataframe\">\n",
              "  <thead>\n",
              "    <tr style=\"text-align: right;\">\n",
              "      <th></th>\n",
              "      <th>id</th>\n",
              "      <th>dur</th>\n",
              "      <th>proto</th>\n",
              "      <th>service</th>\n",
              "      <th>state</th>\n",
              "      <th>spkts</th>\n",
              "      <th>dpkts</th>\n",
              "      <th>sbytes</th>\n",
              "      <th>dbytes</th>\n",
              "      <th>rate</th>\n",
              "      <th>sttl</th>\n",
              "      <th>dttl</th>\n",
              "      <th>sload</th>\n",
              "      <th>dload</th>\n",
              "      <th>sloss</th>\n",
              "      <th>dloss</th>\n",
              "      <th>sinpkt</th>\n",
              "      <th>dinpkt</th>\n",
              "      <th>sjit</th>\n",
              "      <th>djit</th>\n",
              "      <th>swin</th>\n",
              "      <th>stcpb</th>\n",
              "      <th>dtcpb</th>\n",
              "      <th>dwin</th>\n",
              "      <th>tcprtt</th>\n",
              "      <th>synack</th>\n",
              "      <th>ackdat</th>\n",
              "      <th>smean</th>\n",
              "      <th>dmean</th>\n",
              "      <th>trans_depth</th>\n",
              "      <th>response_body_len</th>\n",
              "      <th>ct_srv_src</th>\n",
              "      <th>ct_state_ttl</th>\n",
              "      <th>ct_dst_ltm</th>\n",
              "      <th>ct_src_dport_ltm</th>\n",
              "      <th>ct_dst_sport_ltm</th>\n",
              "      <th>ct_dst_src_ltm</th>\n",
              "      <th>is_ftp_login</th>\n",
              "      <th>ct_ftp_cmd</th>\n",
              "      <th>ct_flw_http_mthd</th>\n",
              "      <th>ct_src_ltm</th>\n",
              "      <th>ct_srv_dst</th>\n",
              "      <th>is_sm_ips_ports</th>\n",
              "      <th>attack_cat</th>\n",
              "      <th>label</th>\n",
              "    </tr>\n",
              "  </thead>\n",
              "  <tbody>\n",
              "    <tr>\n",
              "      <th>1207</th>\n",
              "      <td>1208</td>\n",
              "      <td>43.541569</td>\n",
              "      <td>tcp</td>\n",
              "      <td>http</td>\n",
              "      <td>FIN</td>\n",
              "      <td>360</td>\n",
              "      <td>746</td>\n",
              "      <td>19202</td>\n",
              "      <td>1087890</td>\n",
              "      <td>25.378047</td>\n",
              "      <td>31</td>\n",
              "      <td>29</td>\n",
              "      <td>3.518293e+03</td>\n",
              "      <td>199612.828100</td>\n",
              "      <td>2</td>\n",
              "      <td>370</td>\n",
              "      <td>121.284845</td>\n",
              "      <td>58.444249</td>\n",
              "      <td>46460.842110</td>\n",
              "      <td>32274.723430</td>\n",
              "      <td>255</td>\n",
              "      <td>1416915617</td>\n",
              "      <td>1418311566</td>\n",
              "      <td>255</td>\n",
              "      <td>0.000813</td>\n",
              "      <td>0.000621</td>\n",
              "      <td>0.000192</td>\n",
              "      <td>53</td>\n",
              "      <td>1458</td>\n",
              "      <td>1</td>\n",
              "      <td>524288</td>\n",
              "      <td>2</td>\n",
              "      <td>0</td>\n",
              "      <td>5</td>\n",
              "      <td>1</td>\n",
              "      <td>1</td>\n",
              "      <td>1</td>\n",
              "      <td>0</td>\n",
              "      <td>0</td>\n",
              "      <td>1</td>\n",
              "      <td>6</td>\n",
              "      <td>3</td>\n",
              "      <td>0</td>\n",
              "      <td>Normal</td>\n",
              "      <td>0</td>\n",
              "    </tr>\n",
              "    <tr>\n",
              "      <th>1211</th>\n",
              "      <td>1212</td>\n",
              "      <td>43.239883</td>\n",
              "      <td>tcp</td>\n",
              "      <td>http</td>\n",
              "      <td>FIN</td>\n",
              "      <td>354</td>\n",
              "      <td>746</td>\n",
              "      <td>18890</td>\n",
              "      <td>1087890</td>\n",
              "      <td>25.416350</td>\n",
              "      <td>31</td>\n",
              "      <td>29</td>\n",
              "      <td>3.485116e+03</td>\n",
              "      <td>201005.531300</td>\n",
              "      <td>2</td>\n",
              "      <td>370</td>\n",
              "      <td>123.189738</td>\n",
              "      <td>58.039379</td>\n",
              "      <td>45176.759880</td>\n",
              "      <td>31149.187470</td>\n",
              "      <td>255</td>\n",
              "      <td>2076912432</td>\n",
              "      <td>4227751753</td>\n",
              "      <td>255</td>\n",
              "      <td>0.000698</td>\n",
              "      <td>0.000552</td>\n",
              "      <td>0.000146</td>\n",
              "      <td>53</td>\n",
              "      <td>1458</td>\n",
              "      <td>1</td>\n",
              "      <td>524288</td>\n",
              "      <td>2</td>\n",
              "      <td>0</td>\n",
              "      <td>5</td>\n",
              "      <td>1</td>\n",
              "      <td>1</td>\n",
              "      <td>1</td>\n",
              "      <td>0</td>\n",
              "      <td>0</td>\n",
              "      <td>1</td>\n",
              "      <td>1</td>\n",
              "      <td>3</td>\n",
              "      <td>0</td>\n",
              "      <td>Normal</td>\n",
              "      <td>0</td>\n",
              "    </tr>\n",
              "    <tr>\n",
              "      <th>1239</th>\n",
              "      <td>1240</td>\n",
              "      <td>37.955116</td>\n",
              "      <td>tcp</td>\n",
              "      <td>http</td>\n",
              "      <td>FIN</td>\n",
              "      <td>360</td>\n",
              "      <td>746</td>\n",
              "      <td>19202</td>\n",
              "      <td>1087890</td>\n",
              "      <td>29.113335</td>\n",
              "      <td>31</td>\n",
              "      <td>29</td>\n",
              "      <td>4.036136e+03</td>\n",
              "      <td>228993.000000</td>\n",
              "      <td>2</td>\n",
              "      <td>370</td>\n",
              "      <td>105.723731</td>\n",
              "      <td>50.945733</td>\n",
              "      <td>36460.897910</td>\n",
              "      <td>25323.102770</td>\n",
              "      <td>255</td>\n",
              "      <td>2871518349</td>\n",
              "      <td>2872607034</td>\n",
              "      <td>255</td>\n",
              "      <td>0.000676</td>\n",
              "      <td>0.000536</td>\n",
              "      <td>0.000140</td>\n",
              "      <td>53</td>\n",
              "      <td>1458</td>\n",
              "      <td>1</td>\n",
              "      <td>524288</td>\n",
              "      <td>3</td>\n",
              "      <td>0</td>\n",
              "      <td>15</td>\n",
              "      <td>1</td>\n",
              "      <td>1</td>\n",
              "      <td>3</td>\n",
              "      <td>0</td>\n",
              "      <td>0</td>\n",
              "      <td>1</td>\n",
              "      <td>9</td>\n",
              "      <td>2</td>\n",
              "      <td>0</td>\n",
              "      <td>Normal</td>\n",
              "      <td>0</td>\n",
              "    </tr>\n",
              "    <tr>\n",
              "      <th>1240</th>\n",
              "      <td>1241</td>\n",
              "      <td>41.748917</td>\n",
              "      <td>tcp</td>\n",
              "      <td>http</td>\n",
              "      <td>FIN</td>\n",
              "      <td>366</td>\n",
              "      <td>746</td>\n",
              "      <td>19514</td>\n",
              "      <td>1087890</td>\n",
              "      <td>26.611469</td>\n",
              "      <td>31</td>\n",
              "      <td>29</td>\n",
              "      <td>3.729151e+03</td>\n",
              "      <td>208183.984400</td>\n",
              "      <td>2</td>\n",
              "      <td>370</td>\n",
              "      <td>115.009994</td>\n",
              "      <td>56.038136</td>\n",
              "      <td>42074.225680</td>\n",
              "      <td>29403.324640</td>\n",
              "      <td>255</td>\n",
              "      <td>769429600</td>\n",
              "      <td>770616121</td>\n",
              "      <td>255</td>\n",
              "      <td>0.000676</td>\n",
              "      <td>0.000525</td>\n",
              "      <td>0.000151</td>\n",
              "      <td>53</td>\n",
              "      <td>1458</td>\n",
              "      <td>1</td>\n",
              "      <td>524288</td>\n",
              "      <td>2</td>\n",
              "      <td>0</td>\n",
              "      <td>5</td>\n",
              "      <td>1</td>\n",
              "      <td>1</td>\n",
              "      <td>2</td>\n",
              "      <td>0</td>\n",
              "      <td>0</td>\n",
              "      <td>1</td>\n",
              "      <td>9</td>\n",
              "      <td>1</td>\n",
              "      <td>0</td>\n",
              "      <td>Normal</td>\n",
              "      <td>0</td>\n",
              "    </tr>\n",
              "    <tr>\n",
              "      <th>1341</th>\n",
              "      <td>1342</td>\n",
              "      <td>24.432871</td>\n",
              "      <td>tcp</td>\n",
              "      <td>http</td>\n",
              "      <td>FIN</td>\n",
              "      <td>354</td>\n",
              "      <td>746</td>\n",
              "      <td>18890</td>\n",
              "      <td>1087890</td>\n",
              "      <td>44.980388</td>\n",
              "      <td>31</td>\n",
              "      <td>29</td>\n",
              "      <td>6.167756e+03</td>\n",
              "      <td>355728.000000</td>\n",
              "      <td>2</td>\n",
              "      <td>370</td>\n",
              "      <td>69.214123</td>\n",
              "      <td>32.795041</td>\n",
              "      <td>12501.322470</td>\n",
              "      <td>8611.425312</td>\n",
              "      <td>255</td>\n",
              "      <td>3037387409</td>\n",
              "      <td>3038533146</td>\n",
              "      <td>255</td>\n",
              "      <td>0.000727</td>\n",
              "      <td>0.000577</td>\n",
              "      <td>0.000150</td>\n",
              "      <td>53</td>\n",
              "      <td>1458</td>\n",
              "      <td>1</td>\n",
              "      <td>524288</td>\n",
              "      <td>2</td>\n",
              "      <td>0</td>\n",
              "      <td>5</td>\n",
              "      <td>1</td>\n",
              "      <td>1</td>\n",
              "      <td>2</td>\n",
              "      <td>0</td>\n",
              "      <td>0</td>\n",
              "      <td>1</td>\n",
              "      <td>3</td>\n",
              "      <td>3</td>\n",
              "      <td>0</td>\n",
              "      <td>Normal</td>\n",
              "      <td>0</td>\n",
              "    </tr>\n",
              "    <tr>\n",
              "      <th>...</th>\n",
              "      <td>...</td>\n",
              "      <td>...</td>\n",
              "      <td>...</td>\n",
              "      <td>...</td>\n",
              "      <td>...</td>\n",
              "      <td>...</td>\n",
              "      <td>...</td>\n",
              "      <td>...</td>\n",
              "      <td>...</td>\n",
              "      <td>...</td>\n",
              "      <td>...</td>\n",
              "      <td>...</td>\n",
              "      <td>...</td>\n",
              "      <td>...</td>\n",
              "      <td>...</td>\n",
              "      <td>...</td>\n",
              "      <td>...</td>\n",
              "      <td>...</td>\n",
              "      <td>...</td>\n",
              "      <td>...</td>\n",
              "      <td>...</td>\n",
              "      <td>...</td>\n",
              "      <td>...</td>\n",
              "      <td>...</td>\n",
              "      <td>...</td>\n",
              "      <td>...</td>\n",
              "      <td>...</td>\n",
              "      <td>...</td>\n",
              "      <td>...</td>\n",
              "      <td>...</td>\n",
              "      <td>...</td>\n",
              "      <td>...</td>\n",
              "      <td>...</td>\n",
              "      <td>...</td>\n",
              "      <td>...</td>\n",
              "      <td>...</td>\n",
              "      <td>...</td>\n",
              "      <td>...</td>\n",
              "      <td>...</td>\n",
              "      <td>...</td>\n",
              "      <td>...</td>\n",
              "      <td>...</td>\n",
              "      <td>...</td>\n",
              "      <td>...</td>\n",
              "      <td>...</td>\n",
              "    </tr>\n",
              "    <tr>\n",
              "      <th>173799</th>\n",
              "      <td>173800</td>\n",
              "      <td>2.358193</td>\n",
              "      <td>tcp</td>\n",
              "      <td>-</td>\n",
              "      <td>FIN</td>\n",
              "      <td>258</td>\n",
              "      <td>42</td>\n",
              "      <td>330718</td>\n",
              "      <td>1816</td>\n",
              "      <td>126.792001</td>\n",
              "      <td>62</td>\n",
              "      <td>252</td>\n",
              "      <td>1.117591e+06</td>\n",
              "      <td>6014.774902</td>\n",
              "      <td>126</td>\n",
              "      <td>1</td>\n",
              "      <td>9.064132</td>\n",
              "      <td>55.433316</td>\n",
              "      <td>1017.836724</td>\n",
              "      <td>60.182246</td>\n",
              "      <td>255</td>\n",
              "      <td>1894173722</td>\n",
              "      <td>1446489174</td>\n",
              "      <td>255</td>\n",
              "      <td>0.122761</td>\n",
              "      <td>0.085419</td>\n",
              "      <td>0.037342</td>\n",
              "      <td>1282</td>\n",
              "      <td>43</td>\n",
              "      <td>1</td>\n",
              "      <td>0</td>\n",
              "      <td>1</td>\n",
              "      <td>1</td>\n",
              "      <td>1</td>\n",
              "      <td>1</td>\n",
              "      <td>1</td>\n",
              "      <td>1</td>\n",
              "      <td>0</td>\n",
              "      <td>0</td>\n",
              "      <td>1</td>\n",
              "      <td>1</td>\n",
              "      <td>1</td>\n",
              "      <td>0</td>\n",
              "      <td>DoS</td>\n",
              "      <td>1</td>\n",
              "    </tr>\n",
              "    <tr>\n",
              "      <th>173846</th>\n",
              "      <td>173847</td>\n",
              "      <td>6.484093</td>\n",
              "      <td>tcp</td>\n",
              "      <td>smtp</td>\n",
              "      <td>FIN</td>\n",
              "      <td>624</td>\n",
              "      <td>114</td>\n",
              "      <td>792979</td>\n",
              "      <td>5632</td>\n",
              "      <td>113.662771</td>\n",
              "      <td>62</td>\n",
              "      <td>252</td>\n",
              "      <td>9.768015e+05</td>\n",
              "      <td>6888.241699</td>\n",
              "      <td>309</td>\n",
              "      <td>8</td>\n",
              "      <td>10.407854</td>\n",
              "      <td>57.022344</td>\n",
              "      <td>1424.067017</td>\n",
              "      <td>85.436297</td>\n",
              "      <td>255</td>\n",
              "      <td>123426683</td>\n",
              "      <td>2055648681</td>\n",
              "      <td>255</td>\n",
              "      <td>0.044917</td>\n",
              "      <td>0.018338</td>\n",
              "      <td>0.026579</td>\n",
              "      <td>1271</td>\n",
              "      <td>49</td>\n",
              "      <td>0</td>\n",
              "      <td>0</td>\n",
              "      <td>1</td>\n",
              "      <td>1</td>\n",
              "      <td>1</td>\n",
              "      <td>1</td>\n",
              "      <td>1</td>\n",
              "      <td>1</td>\n",
              "      <td>0</td>\n",
              "      <td>0</td>\n",
              "      <td>0</td>\n",
              "      <td>1</td>\n",
              "      <td>1</td>\n",
              "      <td>0</td>\n",
              "      <td>Exploits</td>\n",
              "      <td>1</td>\n",
              "    </tr>\n",
              "    <tr>\n",
              "      <th>174548</th>\n",
              "      <td>174549</td>\n",
              "      <td>15.372617</td>\n",
              "      <td>tcp</td>\n",
              "      <td>-</td>\n",
              "      <td>FIN</td>\n",
              "      <td>204</td>\n",
              "      <td>1244</td>\n",
              "      <td>9024</td>\n",
              "      <td>1633778</td>\n",
              "      <td>94.128412</td>\n",
              "      <td>62</td>\n",
              "      <td>252</td>\n",
              "      <td>4.673245e+03</td>\n",
              "      <td>849544.375000</td>\n",
              "      <td>6</td>\n",
              "      <td>620</td>\n",
              "      <td>75.722392</td>\n",
              "      <td>12.313900</td>\n",
              "      <td>3694.714509</td>\n",
              "      <td>1508.086250</td>\n",
              "      <td>255</td>\n",
              "      <td>2498626068</td>\n",
              "      <td>1408337086</td>\n",
              "      <td>255</td>\n",
              "      <td>0.175144</td>\n",
              "      <td>0.078752</td>\n",
              "      <td>0.096392</td>\n",
              "      <td>44</td>\n",
              "      <td>1313</td>\n",
              "      <td>0</td>\n",
              "      <td>0</td>\n",
              "      <td>1</td>\n",
              "      <td>1</td>\n",
              "      <td>2</td>\n",
              "      <td>1</td>\n",
              "      <td>1</td>\n",
              "      <td>1</td>\n",
              "      <td>0</td>\n",
              "      <td>0</td>\n",
              "      <td>0</td>\n",
              "      <td>1</td>\n",
              "      <td>4</td>\n",
              "      <td>0</td>\n",
              "      <td>Exploits</td>\n",
              "      <td>1</td>\n",
              "    </tr>\n",
              "    <tr>\n",
              "      <th>174769</th>\n",
              "      <td>174770</td>\n",
              "      <td>36.410484</td>\n",
              "      <td>sctp</td>\n",
              "      <td>-</td>\n",
              "      <td>CON</td>\n",
              "      <td>250</td>\n",
              "      <td>24</td>\n",
              "      <td>248562</td>\n",
              "      <td>1652</td>\n",
              "      <td>7.497840</td>\n",
              "      <td>254</td>\n",
              "      <td>60</td>\n",
              "      <td>5.439488e+04</td>\n",
              "      <td>348.031616</td>\n",
              "      <td>0</td>\n",
              "      <td>0</td>\n",
              "      <td>146.226828</td>\n",
              "      <td>472.506875</td>\n",
              "      <td>217.958844</td>\n",
              "      <td>517.294969</td>\n",
              "      <td>0</td>\n",
              "      <td>0</td>\n",
              "      <td>0</td>\n",
              "      <td>0</td>\n",
              "      <td>0.000000</td>\n",
              "      <td>0.000000</td>\n",
              "      <td>0.000000</td>\n",
              "      <td>994</td>\n",
              "      <td>69</td>\n",
              "      <td>0</td>\n",
              "      <td>0</td>\n",
              "      <td>1</td>\n",
              "      <td>0</td>\n",
              "      <td>1</td>\n",
              "      <td>1</td>\n",
              "      <td>1</td>\n",
              "      <td>1</td>\n",
              "      <td>0</td>\n",
              "      <td>0</td>\n",
              "      <td>0</td>\n",
              "      <td>34</td>\n",
              "      <td>1</td>\n",
              "      <td>0</td>\n",
              "      <td>Generic</td>\n",
              "      <td>1</td>\n",
              "    </tr>\n",
              "    <tr>\n",
              "      <th>175248</th>\n",
              "      <td>175249</td>\n",
              "      <td>2.013791</td>\n",
              "      <td>tcp</td>\n",
              "      <td>smtp</td>\n",
              "      <td>FIN</td>\n",
              "      <td>226</td>\n",
              "      <td>50</td>\n",
              "      <td>272070</td>\n",
              "      <td>3084</td>\n",
              "      <td>136.558356</td>\n",
              "      <td>62</td>\n",
              "      <td>252</td>\n",
              "      <td>1.076048e+06</td>\n",
              "      <td>12009.190430</td>\n",
              "      <td>110</td>\n",
              "      <td>8</td>\n",
              "      <td>8.990138</td>\n",
              "      <td>40.210039</td>\n",
              "      <td>927.685598</td>\n",
              "      <td>48.421094</td>\n",
              "      <td>255</td>\n",
              "      <td>2033367916</td>\n",
              "      <td>297297964</td>\n",
              "      <td>255</td>\n",
              "      <td>0.051247</td>\n",
              "      <td>0.011363</td>\n",
              "      <td>0.039884</td>\n",
              "      <td>1204</td>\n",
              "      <td>62</td>\n",
              "      <td>0</td>\n",
              "      <td>0</td>\n",
              "      <td>1</td>\n",
              "      <td>1</td>\n",
              "      <td>1</td>\n",
              "      <td>1</td>\n",
              "      <td>1</td>\n",
              "      <td>1</td>\n",
              "      <td>0</td>\n",
              "      <td>0</td>\n",
              "      <td>0</td>\n",
              "      <td>18</td>\n",
              "      <td>1</td>\n",
              "      <td>0</td>\n",
              "      <td>DoS</td>\n",
              "      <td>1</td>\n",
              "    </tr>\n",
              "  </tbody>\n",
              "</table>\n",
              "<p>2305 rows × 45 columns</p>\n",
              "</div>"
            ],
            "text/plain": [
              "            id        dur proto  ... is_sm_ips_ports attack_cat  label\n",
              "1207      1208  43.541569   tcp  ...               0     Normal      0\n",
              "1211      1212  43.239883   tcp  ...               0     Normal      0\n",
              "1239      1240  37.955116   tcp  ...               0     Normal      0\n",
              "1240      1241  41.748917   tcp  ...               0     Normal      0\n",
              "1341      1342  24.432871   tcp  ...               0     Normal      0\n",
              "...        ...        ...   ...  ...             ...        ...    ...\n",
              "173799  173800   2.358193   tcp  ...               0        DoS      1\n",
              "173846  173847   6.484093   tcp  ...               0   Exploits      1\n",
              "174548  174549  15.372617   tcp  ...               0   Exploits      1\n",
              "174769  174770  36.410484  sctp  ...               0    Generic      1\n",
              "175248  175249   2.013791   tcp  ...               0        DoS      1\n",
              "\n",
              "[2305 rows x 45 columns]"
            ]
          },
          "metadata": {
            "tags": []
          },
          "execution_count": 188
        }
      ]
    },
    {
      "cell_type": "code",
      "metadata": {
        "id": "6vZn3oQ7Z-zC",
        "colab_type": "code",
        "colab": {
          "base_uri": "https://localhost:8080/",
          "height": 736
        },
        "outputId": "2d8bb6f0-9c76-4e21-9f5a-602949e03c77"
      },
      "source": [
        "fig, ax = plt.subplots(figsize=(16,12))\n",
        "sns.distplot(df.spkts[(df.label == 0) & (df.spkts < 200)],kde=False,hist_kws={\"linewidth\": .9, 'edgecolor':'black'},label='Normal')\n",
        "sns.distplot(df.spkts[(df.label == 1)  & (df.spkts < 200)],kde=False,hist_kws={\"linewidth\": .9, 'edgecolor':'black'},label='Attack')\n",
        "plt.legend(fontsize=18)\n",
        "sns.despine(top=True, right=True, left=False, bottom=False)\n",
        "plt.title('spkts by Normal or Attack',fontsize=22)\n",
        "#plt.savefig('UNSW_spkts.png',format='png')\n",
        "#files.download('UNSW_spkts.png')\n",
        "plt.show;"
      ],
      "execution_count": 191,
      "outputs": [
        {
          "output_type": "display_data",
          "data": {
            "image/png": "[encoded data removed]",
            "text/plain": [
              "<Figure size 1152x864 with 1 Axes>"
            ]
          },
          "metadata": {
            "tags": []
          }
        }
      ]
    },
    {
      "cell_type": "markdown",
      "metadata": {
        "id": "zY2YDA-dn09s",
        "colab_type": "text"
      },
      "source": [
        "**dload**"
      ]
    },
    {
      "cell_type": "code",
      "metadata": {
        "id": "TvFgPJ-Mnz3d",
        "colab_type": "code",
        "colab": {
          "base_uri": "https://localhost:8080/",
          "height": 736
        },
        "outputId": "f263835b-f2d0-4780-e07a-f4e8f2d37cf1"
      },
      "source": [
        "fig, ax = plt.subplots(figsize=(16,12))\n",
        "sns.distplot(df.dload[df.label == 0],kde=False,hist_kws={\"linewidth\": .9, 'edgecolor':'black'},label='Normal')\n",
        "sns.distplot(df.dload[df.label == 1],kde=False,hist_kws={\"linewidth\": .9, 'edgecolor':'black'},label='Attack')\n",
        "plt.legend(fontsize=18)\n",
        "sns.despine(top=True, right=True, left=False, bottom=False)\n",
        "plt.title('dload by Normal or Attack',fontsize=22)\n",
        "#plt.savefig('UNSW_dload.png',format='png')\n",
        "#files.download('UNSW_dload.png')\n",
        "plt.show;"
      ],
      "execution_count": 200,
      "outputs": [
        {
          "output_type": "display_data",
          "data": {
            "image/png": "[encoded data removed]",
            "text/plain": [
              "<Figure size 1152x864 with 1 Axes>"
            ]
          },
          "metadata": {
            "tags": []
          }
        }
      ]
    },
    {
      "cell_type": "markdown",
      "metadata": {
        "id": "Lp38kURYoy9_",
        "colab_type": "text"
      },
      "source": [
        "**smean**"
      ]
    },
    {
      "cell_type": "code",
      "metadata": {
        "id": "_lhpXtuwpHlC",
        "colab_type": "code",
        "colab": {
          "base_uri": "https://localhost:8080/",
          "height": 736
        },
        "outputId": "558af251-2e2f-4b44-c9dc-1514783e7ba0"
      },
      "source": [
        "fig, ax = plt.subplots(figsize=(16,12))\n",
        "sns.distplot(df.smean[df.label == 0],kde=False,hist_kws={\"linewidth\": .9, 'edgecolor':'black'},label='Normal')\n",
        "sns.distplot(df.smean[df.label == 1],kde=False,hist_kws={\"linewidth\": .9, 'edgecolor':'black'},label='Attack')\n",
        "plt.legend(fontsize=18)\n",
        "sns.despine(top=True, right=True, left=False, bottom=False)\n",
        "plt.title('smean by Normal or Attack',fontsize=22)\n",
        "plt.savefig('UNSW_smean.png',format='png')\n",
        "files.download('UNSW_smean.png')\n",
        "plt.show;"
      ],
      "execution_count": 202,
      "outputs": [
        {
          "output_type": "display_data",
          "data": {
            "image/png": "[encoded data removed]",
            "text/plain": [
              "<Figure size 1152x864 with 1 Axes>"
            ]
          },
          "metadata": {
            "tags": []
          }
        }
      ]
    },
    {
      "cell_type": "code",
      "metadata": {
        "id": "th6r3O6_pZH9",
        "colab_type": "code",
        "colab": {}
      },
      "source": [
        ""
      ],
      "execution_count": 0,
      "outputs": []
    },
    {
      "cell_type": "markdown",
      "metadata": {
        "id": "CdzQoQEz79QM",
        "colab_type": "text"
      },
      "source": [
        "**REFERENCES**  \n",
        "T. Janarthanan and S. Zargari, \"Feature selection in UNSW-NB15 and KDDCUP'99 datasets,\" 2017 IEEE 26th International Symposium on Industrial Electronics (ISIE), Edinburgh, 2017, pp. 1881-1886.  \n",
        "\n",
        "D. Jing and H. Chen, \"SVM Based Network Intrusion Detection for the UNSW-NB15 Dataset,\" 2019 IEEE 13th International Conference on ASIC (ASICON), Chongqing, China, 2019, pp. 1-4.  \n",
        "\n",
        "N. Moustafa and J. Slay, \"The Significant Features of the UNSW-NB15 and the KDD99 Data Sets for Network Intrusion Detection Systems,\" 2015 4th International Workshop on Building Analysis Datasets and Gathering Experience Returns for Security (BADGERS), Kyoto, 2015, pp. 25-31.  \n",
        "\n",
        "N. Moustafa, J. Slay and G. Creech, \"Novel Geometric Area Analysis Technique for Anomaly Detection Using Trapezoidal Area Estimation on Large-Scale Networks,\" in IEEE Transactions on Big Data, vol. 5, no. 4, pp. 481-494, 1 Dec. 2019.\n",
        "\n",
        "L. Zhiqiang, G. Mohi-Ud-Din, L. Bing, L. Jianchao, Z. Ye and L. Zhijun, \"Modeling Network Intrusion Detection System Using Feed-Forward Neural Network Using UNSW-NB15 Dataset,\" 2019 IEEE 7th International Conference on Smart Energy Grid Engineering (SEGE), Oshawa, ON, Canada, 2019, pp. 299-303."
      ]
    }
  ]
}